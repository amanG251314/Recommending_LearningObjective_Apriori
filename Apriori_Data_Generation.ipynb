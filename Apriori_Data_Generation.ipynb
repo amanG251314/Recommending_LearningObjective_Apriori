{
 "cells": [
  {
   "cell_type": "code",
   "execution_count": 32,
   "id": "e465020b",
   "metadata": {},
   "outputs": [],
   "source": [
    "import numpy as np\n",
    "import pandas as pd\n",
    "import random"
   ]
  },
  {
   "cell_type": "code",
   "execution_count": 33,
   "id": "268f126b",
   "metadata": {},
   "outputs": [],
   "source": [
    "data1=pd.read_csv('Dataset_FYP.csv')"
   ]
  },
  {
   "cell_type": "code",
   "execution_count": 34,
   "id": "ae31bafd",
   "metadata": {},
   "outputs": [
    {
     "data": {
      "text/html": [
       "<div>\n",
       "<style scoped>\n",
       "    .dataframe tbody tr th:only-of-type {\n",
       "        vertical-align: middle;\n",
       "    }\n",
       "\n",
       "    .dataframe tbody tr th {\n",
       "        vertical-align: top;\n",
       "    }\n",
       "\n",
       "    .dataframe thead th {\n",
       "        text-align: right;\n",
       "    }\n",
       "</style>\n",
       "<table border=\"1\" class=\"dataframe\">\n",
       "  <thead>\n",
       "    <tr style=\"text-align: right;\">\n",
       "      <th></th>\n",
       "      <th>Learner ID</th>\n",
       "      <th>L.S 1</th>\n",
       "      <th>L.S 2</th>\n",
       "      <th>L.S 3</th>\n",
       "      <th>L.S 4</th>\n",
       "      <th>P1</th>\n",
       "      <th>P2</th>\n",
       "      <th>P3</th>\n",
       "      <th>P4</th>\n",
       "      <th>Beginer</th>\n",
       "      <th>Expert</th>\n",
       "      <th>Perfomance</th>\n",
       "    </tr>\n",
       "  </thead>\n",
       "  <tbody>\n",
       "    <tr>\n",
       "      <th>0</th>\n",
       "      <td>Learner1</td>\n",
       "      <td>-5</td>\n",
       "      <td>-10</td>\n",
       "      <td>0</td>\n",
       "      <td>2</td>\n",
       "      <td>1</td>\n",
       "      <td>0</td>\n",
       "      <td>1</td>\n",
       "      <td>1</td>\n",
       "      <td>1</td>\n",
       "      <td>0</td>\n",
       "      <td>93</td>\n",
       "    </tr>\n",
       "    <tr>\n",
       "      <th>1</th>\n",
       "      <td>Learner2</td>\n",
       "      <td>-9</td>\n",
       "      <td>-9</td>\n",
       "      <td>10</td>\n",
       "      <td>-10</td>\n",
       "      <td>1</td>\n",
       "      <td>0</td>\n",
       "      <td>0</td>\n",
       "      <td>0</td>\n",
       "      <td>0</td>\n",
       "      <td>1</td>\n",
       "      <td>7</td>\n",
       "    </tr>\n",
       "    <tr>\n",
       "      <th>2</th>\n",
       "      <td>Learner3</td>\n",
       "      <td>-5</td>\n",
       "      <td>1</td>\n",
       "      <td>-9</td>\n",
       "      <td>-10</td>\n",
       "      <td>0</td>\n",
       "      <td>0</td>\n",
       "      <td>1</td>\n",
       "      <td>1</td>\n",
       "      <td>1</td>\n",
       "      <td>0</td>\n",
       "      <td>20</td>\n",
       "    </tr>\n",
       "    <tr>\n",
       "      <th>3</th>\n",
       "      <td>Learner4</td>\n",
       "      <td>5</td>\n",
       "      <td>7</td>\n",
       "      <td>11</td>\n",
       "      <td>-1</td>\n",
       "      <td>1</td>\n",
       "      <td>1</td>\n",
       "      <td>0</td>\n",
       "      <td>1</td>\n",
       "      <td>1</td>\n",
       "      <td>0</td>\n",
       "      <td>6</td>\n",
       "    </tr>\n",
       "    <tr>\n",
       "      <th>4</th>\n",
       "      <td>Learner5</td>\n",
       "      <td>-1</td>\n",
       "      <td>-1</td>\n",
       "      <td>1</td>\n",
       "      <td>-6</td>\n",
       "      <td>0</td>\n",
       "      <td>0</td>\n",
       "      <td>1</td>\n",
       "      <td>1</td>\n",
       "      <td>0</td>\n",
       "      <td>1</td>\n",
       "      <td>44</td>\n",
       "    </tr>\n",
       "  </tbody>\n",
       "</table>\n",
       "</div>"
      ],
      "text/plain": [
       "  Learner ID  L.S 1  L.S 2  L.S 3   L.S 4  P1  P2  P3  P4  Beginer  Expert  \\\n",
       "0   Learner1     -5    -10       0      2   1   0   1   1        1       0   \n",
       "1   Learner2     -9     -9      10    -10   1   0   0   0        0       1   \n",
       "2   Learner3     -5      1      -9    -10   0   0   1   1        1       0   \n",
       "3   Learner4      5      7      11     -1   1   1   0   1        1       0   \n",
       "4   Learner5     -1     -1       1     -6   0   0   1   1        0       1   \n",
       "\n",
       "   Perfomance  \n",
       "0          93  \n",
       "1           7  \n",
       "2          20  \n",
       "3           6  \n",
       "4          44  "
      ]
     },
     "execution_count": 34,
     "metadata": {},
     "output_type": "execute_result"
    }
   ],
   "source": [
    "data1.head()"
   ]
  },
  {
   "cell_type": "code",
   "execution_count": 35,
   "id": "60134361",
   "metadata": {},
   "outputs": [],
   "source": [
    "learners=data1['Learner ID'].values"
   ]
  },
  {
   "cell_type": "code",
   "execution_count": 36,
   "id": "e7872c9d",
   "metadata": {},
   "outputs": [],
   "source": [
    "data2=pd.DataFrame()\n",
    "data2['Learner ID']=learners"
   ]
  },
  {
   "cell_type": "code",
   "execution_count": 37,
   "id": "09253059",
   "metadata": {},
   "outputs": [
    {
     "data": {
      "text/plain": [
       "449"
      ]
     },
     "execution_count": 37,
     "metadata": {},
     "output_type": "execute_result"
    }
   ],
   "source": [
    "data2.shape[0]"
   ]
  },
  {
   "cell_type": "code",
   "execution_count": null,
   "id": "71819f72",
   "metadata": {},
   "outputs": [],
   "source": []
  },
  {
   "cell_type": "code",
   "execution_count": 38,
   "id": "969c75a6",
   "metadata": {},
   "outputs": [],
   "source": [
    "units=['Bubble sort','Quick sort','Selection Sort','Merge sort','Insertion Sort']"
   ]
  },
  {
   "cell_type": "code",
   "execution_count": 39,
   "id": "c248ee2d",
   "metadata": {},
   "outputs": [],
   "source": [
    "Learning_objectives=['videos', 'outlines', 'images', 'quiz', 'annimation', 'pdf', 'example', 'text', 'charts','summeries']"
   ]
  },
  {
   "cell_type": "code",
   "execution_count": 40,
   "id": "f3a8600f",
   "metadata": {},
   "outputs": [
    {
     "data": {
      "text/plain": [
       "['example', 'charts', 'images']"
      ]
     },
     "execution_count": 40,
     "metadata": {},
     "output_type": "execute_result"
    }
   ],
   "source": [
    "#random.sample(Learning_objectives,3)"
   ]
  },
  {
   "cell_type": "code",
   "execution_count": 41,
   "id": "1289c40e",
   "metadata": {},
   "outputs": [],
   "source": [
    "BubbleSort=[random.sample(Learning_objectives,3) for i in range(data2.shape[0])]\n",
    "Quick_sort=[random.sample(Learning_objectives,3) for i in range(data2.shape[0])]\n",
    "Selection_Sort=[random.sample(Learning_objectives,3) for i in range(data2.shape[0])]\n",
    "Merge_sort=[random.sample(Learning_objectives,3) for i in range(data2.shape[0])]\n",
    "Insertion_sort=[random.sample(Learning_objectives,3) for i in range(data2.shape[0])]"
   ]
  },
  {
   "cell_type": "code",
   "execution_count": 42,
   "id": "3e51f79d",
   "metadata": {},
   "outputs": [],
   "source": [
    "data2['Bubble sort']=BubbleSort\n",
    "data2['Quick sort']=Quick_sort\n",
    "data2['Selection Sort']=Selection_Sort\n",
    "data2['Merge sort']=Merge_sort\n",
    "data2['Insertion sort']=Insertion_sort"
   ]
  },
  {
   "cell_type": "code",
   "execution_count": 51,
   "id": "d13b84a2",
   "metadata": {
    "scrolled": true
   },
   "outputs": [
    {
     "data": {
      "text/html": [
       "<div>\n",
       "<style scoped>\n",
       "    .dataframe tbody tr th:only-of-type {\n",
       "        vertical-align: middle;\n",
       "    }\n",
       "\n",
       "    .dataframe tbody tr th {\n",
       "        vertical-align: top;\n",
       "    }\n",
       "\n",
       "    .dataframe thead th {\n",
       "        text-align: right;\n",
       "    }\n",
       "</style>\n",
       "<table border=\"1\" class=\"dataframe\">\n",
       "  <thead>\n",
       "    <tr style=\"text-align: right;\">\n",
       "      <th></th>\n",
       "      <th>Learner ID</th>\n",
       "      <th>Bubble sort</th>\n",
       "      <th>Quick sort</th>\n",
       "      <th>Selection Sort</th>\n",
       "      <th>Merge sort</th>\n",
       "      <th>Insertion sort</th>\n",
       "    </tr>\n",
       "  </thead>\n",
       "  <tbody>\n",
       "    <tr>\n",
       "      <th>0</th>\n",
       "      <td>Learner1</td>\n",
       "      <td>[text, example, summeries]</td>\n",
       "      <td>[images, charts, pdf]</td>\n",
       "      <td>[example, quiz, text]</td>\n",
       "      <td>[quiz, charts, images]</td>\n",
       "      <td>[example, outlines, annimation]</td>\n",
       "    </tr>\n",
       "    <tr>\n",
       "      <th>1</th>\n",
       "      <td>Learner2</td>\n",
       "      <td>[videos, example, summeries]</td>\n",
       "      <td>[example, quiz, outlines]</td>\n",
       "      <td>[text, summeries, videos]</td>\n",
       "      <td>[summeries, quiz, annimation]</td>\n",
       "      <td>[charts, quiz, text]</td>\n",
       "    </tr>\n",
       "    <tr>\n",
       "      <th>2</th>\n",
       "      <td>Learner3</td>\n",
       "      <td>[images, text, charts]</td>\n",
       "      <td>[images, quiz, annimation]</td>\n",
       "      <td>[example, outlines, summeries]</td>\n",
       "      <td>[text, example, summeries]</td>\n",
       "      <td>[example, outlines, charts]</td>\n",
       "    </tr>\n",
       "    <tr>\n",
       "      <th>3</th>\n",
       "      <td>Learner4</td>\n",
       "      <td>[text, videos, images]</td>\n",
       "      <td>[images, charts, pdf]</td>\n",
       "      <td>[charts, summeries, videos]</td>\n",
       "      <td>[images, summeries, quiz]</td>\n",
       "      <td>[quiz, example, charts]</td>\n",
       "    </tr>\n",
       "    <tr>\n",
       "      <th>4</th>\n",
       "      <td>Learner5</td>\n",
       "      <td>[outlines, example, videos]</td>\n",
       "      <td>[annimation, outlines, images]</td>\n",
       "      <td>[outlines, charts, annimation]</td>\n",
       "      <td>[text, summeries, images]</td>\n",
       "      <td>[summeries, pdf, charts]</td>\n",
       "    </tr>\n",
       "  </tbody>\n",
       "</table>\n",
       "</div>"
      ],
      "text/plain": [
       "  Learner ID                   Bubble sort                      Quick sort  \\\n",
       "0   Learner1    [text, example, summeries]           [images, charts, pdf]   \n",
       "1   Learner2  [videos, example, summeries]       [example, quiz, outlines]   \n",
       "2   Learner3        [images, text, charts]      [images, quiz, annimation]   \n",
       "3   Learner4        [text, videos, images]           [images, charts, pdf]   \n",
       "4   Learner5   [outlines, example, videos]  [annimation, outlines, images]   \n",
       "\n",
       "                   Selection Sort                     Merge sort  \\\n",
       "0           [example, quiz, text]         [quiz, charts, images]   \n",
       "1       [text, summeries, videos]  [summeries, quiz, annimation]   \n",
       "2  [example, outlines, summeries]     [text, example, summeries]   \n",
       "3     [charts, summeries, videos]      [images, summeries, quiz]   \n",
       "4  [outlines, charts, annimation]      [text, summeries, images]   \n",
       "\n",
       "                    Insertion sort  \n",
       "0  [example, outlines, annimation]  \n",
       "1             [charts, quiz, text]  \n",
       "2      [example, outlines, charts]  \n",
       "3          [quiz, example, charts]  \n",
       "4         [summeries, pdf, charts]  "
      ]
     },
     "execution_count": 51,
     "metadata": {},
     "output_type": "execute_result"
    }
   ],
   "source": [
    "data2.head(5)"
   ]
  },
  {
   "cell_type": "code",
   "execution_count": 46,
   "id": "585dc2e5",
   "metadata": {},
   "outputs": [
    {
     "data": {
      "text/plain": [
       "449"
      ]
     },
     "execution_count": 46,
     "metadata": {},
     "output_type": "execute_result"
    }
   ],
   "source": [
    "data2['Learner ID'].nunique()"
   ]
  },
  {
   "cell_type": "code",
   "execution_count": 45,
   "id": "b9161b03",
   "metadata": {},
   "outputs": [],
   "source": [
    "data2.to_csv('aprioridata.csv',index=False)"
   ]
  },
  {
   "cell_type": "code",
   "execution_count": null,
   "id": "08b925ab",
   "metadata": {},
   "outputs": [],
   "source": []
  }
 ],
 "metadata": {
  "kernelspec": {
   "display_name": "Python 3",
   "language": "python",
   "name": "python3"
  },
  "language_info": {
   "codemirror_mode": {
    "name": "ipython",
    "version": 3
   },
   "file_extension": ".py",
   "mimetype": "text/x-python",
   "name": "python",
   "nbconvert_exporter": "python",
   "pygments_lexer": "ipython3",
   "version": "3.8.4"
  }
 },
 "nbformat": 4,
 "nbformat_minor": 5
}
