{
 "cells": [
  {
   "cell_type": "code",
   "execution_count": 149,
   "id": "9f8f2430",
   "metadata": {},
   "outputs": [],
   "source": [
    "import numpy as np\n",
    "import pandas as pd\n",
    "from sklearn.preprocessing import StandardScaler,MinMaxScaler\n",
    "from ast import literal_eval\n",
    "from apyori import apriori"
   ]
  },
  {
   "cell_type": "code",
   "execution_count": 2,
   "id": "5ab1be37",
   "metadata": {},
   "outputs": [],
   "source": [
    "df_learner=pd.read_csv('Dataset_FYP.csv')"
   ]
  },
  {
   "cell_type": "markdown",
   "id": "f97a8828",
   "metadata": {},
   "source": [
    "## Encoding categorical to Numerical"
   ]
  },
  {
   "cell_type": "code",
   "execution_count": 3,
   "id": "9a10ebb4",
   "metadata": {},
   "outputs": [],
   "source": [
    "def GettingNumerical(x):\n",
    "    try:\n",
    "        c1=int(list(x)[-3])\n",
    "        a=list(x)[-1]\n",
    "        b=list(x)[-2]\n",
    "        c=list(x)[-3]\n",
    "        d=c+b+a\n",
    "        d=int(d)\n",
    "        return d\n",
    "    except:\n",
    "        try:\n",
    "            b1=int(list(x)[-2])\n",
    "            a=list(x)[-1]\n",
    "            b=list(x)[-2]\n",
    "            c=b+a\n",
    "            c=int(c)\n",
    "            return c\n",
    "        except:\n",
    "            a=int(list(x)[-1])\n",
    "            return a"
   ]
  },
  {
   "cell_type": "code",
   "execution_count": 4,
   "id": "aa29ea2a",
   "metadata": {},
   "outputs": [],
   "source": [
    "df_learner['Learner ID_encoded']=df_learner['Learner ID'].apply(lambda x:GettingNumerical(x))"
   ]
  },
  {
   "cell_type": "code",
   "execution_count": 5,
   "id": "b2f8f7b5",
   "metadata": {},
   "outputs": [
    {
     "data": {
      "text/html": [
       "<div>\n",
       "<style scoped>\n",
       "    .dataframe tbody tr th:only-of-type {\n",
       "        vertical-align: middle;\n",
       "    }\n",
       "\n",
       "    .dataframe tbody tr th {\n",
       "        vertical-align: top;\n",
       "    }\n",
       "\n",
       "    .dataframe thead th {\n",
       "        text-align: right;\n",
       "    }\n",
       "</style>\n",
       "<table border=\"1\" class=\"dataframe\">\n",
       "  <thead>\n",
       "    <tr style=\"text-align: right;\">\n",
       "      <th></th>\n",
       "      <th>Learner ID</th>\n",
       "      <th>L.S 1</th>\n",
       "      <th>L.S 2</th>\n",
       "      <th>L.S 3</th>\n",
       "      <th>L.S 4</th>\n",
       "      <th>P1</th>\n",
       "      <th>P2</th>\n",
       "      <th>P3</th>\n",
       "      <th>P4</th>\n",
       "      <th>Beginer</th>\n",
       "      <th>Expert</th>\n",
       "      <th>Perfomance</th>\n",
       "      <th>Learner ID_encoded</th>\n",
       "    </tr>\n",
       "  </thead>\n",
       "  <tbody>\n",
       "    <tr>\n",
       "      <th>329</th>\n",
       "      <td>Learner330</td>\n",
       "      <td>-3</td>\n",
       "      <td>-1</td>\n",
       "      <td>-8</td>\n",
       "      <td>-9</td>\n",
       "      <td>0</td>\n",
       "      <td>1</td>\n",
       "      <td>0</td>\n",
       "      <td>0</td>\n",
       "      <td>0</td>\n",
       "      <td>1</td>\n",
       "      <td>64</td>\n",
       "      <td>330</td>\n",
       "    </tr>\n",
       "    <tr>\n",
       "      <th>150</th>\n",
       "      <td>Learner151</td>\n",
       "      <td>-4</td>\n",
       "      <td>-7</td>\n",
       "      <td>2</td>\n",
       "      <td>-4</td>\n",
       "      <td>1</td>\n",
       "      <td>1</td>\n",
       "      <td>1</td>\n",
       "      <td>1</td>\n",
       "      <td>1</td>\n",
       "      <td>0</td>\n",
       "      <td>11</td>\n",
       "      <td>151</td>\n",
       "    </tr>\n",
       "    <tr>\n",
       "      <th>181</th>\n",
       "      <td>Learner182</td>\n",
       "      <td>-11</td>\n",
       "      <td>1</td>\n",
       "      <td>-11</td>\n",
       "      <td>-3</td>\n",
       "      <td>0</td>\n",
       "      <td>0</td>\n",
       "      <td>0</td>\n",
       "      <td>0</td>\n",
       "      <td>1</td>\n",
       "      <td>0</td>\n",
       "      <td>27</td>\n",
       "      <td>182</td>\n",
       "    </tr>\n",
       "    <tr>\n",
       "      <th>90</th>\n",
       "      <td>Learner91</td>\n",
       "      <td>5</td>\n",
       "      <td>-7</td>\n",
       "      <td>3</td>\n",
       "      <td>-10</td>\n",
       "      <td>1</td>\n",
       "      <td>1</td>\n",
       "      <td>1</td>\n",
       "      <td>0</td>\n",
       "      <td>0</td>\n",
       "      <td>1</td>\n",
       "      <td>18</td>\n",
       "      <td>91</td>\n",
       "    </tr>\n",
       "    <tr>\n",
       "      <th>346</th>\n",
       "      <td>Learner347</td>\n",
       "      <td>6</td>\n",
       "      <td>4</td>\n",
       "      <td>-3</td>\n",
       "      <td>-1</td>\n",
       "      <td>1</td>\n",
       "      <td>1</td>\n",
       "      <td>1</td>\n",
       "      <td>1</td>\n",
       "      <td>1</td>\n",
       "      <td>0</td>\n",
       "      <td>52</td>\n",
       "      <td>347</td>\n",
       "    </tr>\n",
       "  </tbody>\n",
       "</table>\n",
       "</div>"
      ],
      "text/plain": [
       "     Learner ID  L.S 1  L.S 2  L.S 3   L.S 4  P1  P2  P3  P4  Beginer  Expert  \\\n",
       "329  Learner330     -3     -1      -8     -9   0   1   0   0        0       1   \n",
       "150  Learner151     -4     -7       2     -4   1   1   1   1        1       0   \n",
       "181  Learner182    -11      1     -11     -3   0   0   0   0        1       0   \n",
       "90    Learner91      5     -7       3    -10   1   1   1   0        0       1   \n",
       "346  Learner347      6      4      -3     -1   1   1   1   1        1       0   \n",
       "\n",
       "     Perfomance  Learner ID_encoded  \n",
       "329          64                 330  \n",
       "150          11                 151  \n",
       "181          27                 182  \n",
       "90           18                  91  \n",
       "346          52                 347  "
      ]
     },
     "execution_count": 5,
     "metadata": {},
     "output_type": "execute_result"
    }
   ],
   "source": [
    "df_learner.sample(5)"
   ]
  },
  {
   "cell_type": "markdown",
   "id": "be4984b6",
   "metadata": {},
   "source": [
    "## Dependent(y) and independent(X) variable"
   ]
  },
  {
   "cell_type": "code",
   "execution_count": 6,
   "id": "93df19ba",
   "metadata": {},
   "outputs": [],
   "source": [
    "y=df_learner['Learner ID_encoded']\n",
    "X=df_learner.drop(['Learner ID','Learner ID_encoded'],axis=1)"
   ]
  },
  {
   "cell_type": "code",
   "execution_count": 7,
   "id": "9c0b11c4",
   "metadata": {},
   "outputs": [],
   "source": [
    "MMS=MinMaxScaler()\n",
    "X_scaled=MMS.fit_transform(X)"
   ]
  },
  {
   "cell_type": "code",
   "execution_count": 403,
   "id": "78de5750",
   "metadata": {},
   "outputs": [],
   "source": [
    "input1=[-6,6,-1,-1,2,1,0,1,0,1,35]"
   ]
  },
  {
   "cell_type": "code",
   "execution_count": 404,
   "id": "d264569a",
   "metadata": {},
   "outputs": [],
   "source": [
    "def LeanerPredict(database,NewLearner,MMS):\n",
    "    NewLearner=MMS.transform([NewLearner])\n",
    "    df=pd.DataFrame()\n",
    "    i=1\n",
    "    for data in database:\n",
    "        dist=np.linalg.norm(data - NewLearner)\n",
    "        dicti={\n",
    "            'Learner':'Learner'+str(i),\n",
    "            'dist':dist\n",
    "        }\n",
    "        df=df.append(dicti, ignore_index=True)\n",
    "        i=i+1\n",
    "    return df\n",
    "        "
   ]
  },
  {
   "cell_type": "code",
   "execution_count": 405,
   "id": "736fdb66",
   "metadata": {},
   "outputs": [],
   "source": [
    "distance=LeanerPredict(X_scaled,input1,MMS)\n",
    "distance=distance.sort_values(by='dist')\n",
    "#distance=distance.reset_index(drop=True)\n",
    "top10=distance.head(10)"
   ]
  },
  {
   "cell_type": "code",
   "execution_count": 406,
   "id": "c36b6ddc",
   "metadata": {},
   "outputs": [
    {
     "data": {
      "text/html": [
       "<div>\n",
       "<style scoped>\n",
       "    .dataframe tbody tr th:only-of-type {\n",
       "        vertical-align: middle;\n",
       "    }\n",
       "\n",
       "    .dataframe tbody tr th {\n",
       "        vertical-align: top;\n",
       "    }\n",
       "\n",
       "    .dataframe thead th {\n",
       "        text-align: right;\n",
       "    }\n",
       "</style>\n",
       "<table border=\"1\" class=\"dataframe\">\n",
       "  <thead>\n",
       "    <tr style=\"text-align: right;\">\n",
       "      <th></th>\n",
       "      <th>Learner</th>\n",
       "      <th>dist</th>\n",
       "    </tr>\n",
       "  </thead>\n",
       "  <tbody>\n",
       "    <tr>\n",
       "      <th>101</th>\n",
       "      <td>Learner102</td>\n",
       "      <td>1.091752</td>\n",
       "    </tr>\n",
       "    <tr>\n",
       "      <th>19</th>\n",
       "      <td>Learner20</td>\n",
       "      <td>1.107526</td>\n",
       "    </tr>\n",
       "    <tr>\n",
       "      <th>14</th>\n",
       "      <td>Learner15</td>\n",
       "      <td>1.132360</td>\n",
       "    </tr>\n",
       "    <tr>\n",
       "      <th>283</th>\n",
       "      <td>Learner284</td>\n",
       "      <td>1.163736</td>\n",
       "    </tr>\n",
       "    <tr>\n",
       "      <th>411</th>\n",
       "      <td>Learner412</td>\n",
       "      <td>1.199493</td>\n",
       "    </tr>\n",
       "    <tr>\n",
       "      <th>363</th>\n",
       "      <td>Learner364</td>\n",
       "      <td>1.251259</td>\n",
       "    </tr>\n",
       "    <tr>\n",
       "      <th>32</th>\n",
       "      <td>Learner33</td>\n",
       "      <td>1.272086</td>\n",
       "    </tr>\n",
       "    <tr>\n",
       "      <th>243</th>\n",
       "      <td>Learner244</td>\n",
       "      <td>1.272717</td>\n",
       "    </tr>\n",
       "    <tr>\n",
       "      <th>369</th>\n",
       "      <td>Learner370</td>\n",
       "      <td>1.281585</td>\n",
       "    </tr>\n",
       "    <tr>\n",
       "      <th>438</th>\n",
       "      <td>Learner439</td>\n",
       "      <td>1.284432</td>\n",
       "    </tr>\n",
       "  </tbody>\n",
       "</table>\n",
       "</div>"
      ],
      "text/plain": [
       "        Learner      dist\n",
       "101  Learner102  1.091752\n",
       "19    Learner20  1.107526\n",
       "14    Learner15  1.132360\n",
       "283  Learner284  1.163736\n",
       "411  Learner412  1.199493\n",
       "363  Learner364  1.251259\n",
       "32    Learner33  1.272086\n",
       "243  Learner244  1.272717\n",
       "369  Learner370  1.281585\n",
       "438  Learner439  1.284432"
      ]
     },
     "execution_count": 406,
     "metadata": {},
     "output_type": "execute_result"
    }
   ],
   "source": [
    "top10"
   ]
  },
  {
   "cell_type": "markdown",
   "id": "9be48348",
   "metadata": {},
   "source": [
    "## Apirori"
   ]
  },
  {
   "cell_type": "code",
   "execution_count": 407,
   "id": "fb6bde52",
   "metadata": {},
   "outputs": [],
   "source": [
    "data2=pd.read_csv('aprioridata.csv')"
   ]
  },
  {
   "cell_type": "code",
   "execution_count": 408,
   "id": "14b7feef",
   "metadata": {},
   "outputs": [
    {
     "data": {
      "text/html": [
       "<div>\n",
       "<style scoped>\n",
       "    .dataframe tbody tr th:only-of-type {\n",
       "        vertical-align: middle;\n",
       "    }\n",
       "\n",
       "    .dataframe tbody tr th {\n",
       "        vertical-align: top;\n",
       "    }\n",
       "\n",
       "    .dataframe thead th {\n",
       "        text-align: right;\n",
       "    }\n",
       "</style>\n",
       "<table border=\"1\" class=\"dataframe\">\n",
       "  <thead>\n",
       "    <tr style=\"text-align: right;\">\n",
       "      <th></th>\n",
       "      <th>Learner ID</th>\n",
       "      <th>Bubble sort</th>\n",
       "      <th>Quick sort</th>\n",
       "      <th>Selection Sort</th>\n",
       "      <th>Merge sort</th>\n",
       "      <th>Insertion sort</th>\n",
       "    </tr>\n",
       "  </thead>\n",
       "  <tbody>\n",
       "    <tr>\n",
       "      <th>0</th>\n",
       "      <td>Learner1</td>\n",
       "      <td>['text', 'example', 'summeries']</td>\n",
       "      <td>['images', 'charts', 'pdf']</td>\n",
       "      <td>['example', 'quiz', 'text']</td>\n",
       "      <td>['quiz', 'charts', 'images']</td>\n",
       "      <td>['example', 'outlines', 'annimation']</td>\n",
       "    </tr>\n",
       "    <tr>\n",
       "      <th>1</th>\n",
       "      <td>Learner2</td>\n",
       "      <td>['videos', 'example', 'summeries']</td>\n",
       "      <td>['example', 'quiz', 'outlines']</td>\n",
       "      <td>['text', 'summeries', 'videos']</td>\n",
       "      <td>['summeries', 'quiz', 'annimation']</td>\n",
       "      <td>['charts', 'quiz', 'text']</td>\n",
       "    </tr>\n",
       "    <tr>\n",
       "      <th>2</th>\n",
       "      <td>Learner3</td>\n",
       "      <td>['images', 'text', 'charts']</td>\n",
       "      <td>['images', 'quiz', 'annimation']</td>\n",
       "      <td>['example', 'outlines', 'summeries']</td>\n",
       "      <td>['text', 'example', 'summeries']</td>\n",
       "      <td>['example', 'outlines', 'charts']</td>\n",
       "    </tr>\n",
       "    <tr>\n",
       "      <th>3</th>\n",
       "      <td>Learner4</td>\n",
       "      <td>['text', 'videos', 'images']</td>\n",
       "      <td>['images', 'charts', 'pdf']</td>\n",
       "      <td>['charts', 'summeries', 'videos']</td>\n",
       "      <td>['images', 'summeries', 'quiz']</td>\n",
       "      <td>['quiz', 'example', 'charts']</td>\n",
       "    </tr>\n",
       "    <tr>\n",
       "      <th>4</th>\n",
       "      <td>Learner5</td>\n",
       "      <td>['outlines', 'example', 'videos']</td>\n",
       "      <td>['annimation', 'outlines', 'images']</td>\n",
       "      <td>['outlines', 'charts', 'annimation']</td>\n",
       "      <td>['text', 'summeries', 'images']</td>\n",
       "      <td>['summeries', 'pdf', 'charts']</td>\n",
       "    </tr>\n",
       "  </tbody>\n",
       "</table>\n",
       "</div>"
      ],
      "text/plain": [
       "  Learner ID                         Bubble sort  \\\n",
       "0   Learner1    ['text', 'example', 'summeries']   \n",
       "1   Learner2  ['videos', 'example', 'summeries']   \n",
       "2   Learner3        ['images', 'text', 'charts']   \n",
       "3   Learner4        ['text', 'videos', 'images']   \n",
       "4   Learner5   ['outlines', 'example', 'videos']   \n",
       "\n",
       "                             Quick sort                        Selection Sort  \\\n",
       "0           ['images', 'charts', 'pdf']           ['example', 'quiz', 'text']   \n",
       "1       ['example', 'quiz', 'outlines']       ['text', 'summeries', 'videos']   \n",
       "2      ['images', 'quiz', 'annimation']  ['example', 'outlines', 'summeries']   \n",
       "3           ['images', 'charts', 'pdf']     ['charts', 'summeries', 'videos']   \n",
       "4  ['annimation', 'outlines', 'images']  ['outlines', 'charts', 'annimation']   \n",
       "\n",
       "                            Merge sort                         Insertion sort  \n",
       "0         ['quiz', 'charts', 'images']  ['example', 'outlines', 'annimation']  \n",
       "1  ['summeries', 'quiz', 'annimation']             ['charts', 'quiz', 'text']  \n",
       "2     ['text', 'example', 'summeries']      ['example', 'outlines', 'charts']  \n",
       "3      ['images', 'summeries', 'quiz']          ['quiz', 'example', 'charts']  \n",
       "4      ['text', 'summeries', 'images']         ['summeries', 'pdf', 'charts']  "
      ]
     },
     "execution_count": 408,
     "metadata": {},
     "output_type": "execute_result"
    }
   ],
   "source": [
    "data2.head()"
   ]
  },
  {
   "cell_type": "code",
   "execution_count": 409,
   "id": "5d6f1a3c",
   "metadata": {},
   "outputs": [
    {
     "data": {
      "text/plain": [
       "array(['Learner102', 'Learner20', 'Learner15', 'Learner284', 'Learner412',\n",
       "       'Learner364', 'Learner33', 'Learner244', 'Learner370',\n",
       "       'Learner439'], dtype=object)"
      ]
     },
     "execution_count": 409,
     "metadata": {},
     "output_type": "execute_result"
    }
   ],
   "source": [
    "top10['Learner'].values"
   ]
  },
  {
   "cell_type": "code",
   "execution_count": 410,
   "id": "590f606c",
   "metadata": {},
   "outputs": [
    {
     "data": {
      "text/plain": [
       "Int64Index([101, 19, 14, 283, 411, 363, 32, 243, 369, 438], dtype='int64')"
      ]
     },
     "execution_count": 410,
     "metadata": {},
     "output_type": "execute_result"
    }
   ],
   "source": [
    "top10.index"
   ]
  },
  {
   "cell_type": "code",
   "execution_count": 411,
   "id": "bfd2596a",
   "metadata": {},
   "outputs": [
    {
     "data": {
      "text/html": [
       "<div>\n",
       "<style scoped>\n",
       "    .dataframe tbody tr th:only-of-type {\n",
       "        vertical-align: middle;\n",
       "    }\n",
       "\n",
       "    .dataframe tbody tr th {\n",
       "        vertical-align: top;\n",
       "    }\n",
       "\n",
       "    .dataframe thead th {\n",
       "        text-align: right;\n",
       "    }\n",
       "</style>\n",
       "<table border=\"1\" class=\"dataframe\">\n",
       "  <thead>\n",
       "    <tr style=\"text-align: right;\">\n",
       "      <th></th>\n",
       "      <th>Learner ID</th>\n",
       "      <th>Bubble sort</th>\n",
       "      <th>Quick sort</th>\n",
       "      <th>Selection Sort</th>\n",
       "      <th>Merge sort</th>\n",
       "      <th>Insertion sort</th>\n",
       "    </tr>\n",
       "  </thead>\n",
       "  <tbody>\n",
       "    <tr>\n",
       "      <th>101</th>\n",
       "      <td>Learner102</td>\n",
       "      <td>['summeries', 'text', 'images']</td>\n",
       "      <td>['charts', 'text', 'images']</td>\n",
       "      <td>['pdf', 'charts', 'outlines']</td>\n",
       "      <td>['charts', 'videos', 'outlines']</td>\n",
       "      <td>['outlines', 'text', 'example']</td>\n",
       "    </tr>\n",
       "    <tr>\n",
       "      <th>19</th>\n",
       "      <td>Learner20</td>\n",
       "      <td>['summeries', 'annimation', 'text']</td>\n",
       "      <td>['videos', 'quiz', 'outlines']</td>\n",
       "      <td>['images', 'text', 'outlines']</td>\n",
       "      <td>['videos', 'example', 'quiz']</td>\n",
       "      <td>['annimation', 'summeries', 'example']</td>\n",
       "    </tr>\n",
       "    <tr>\n",
       "      <th>14</th>\n",
       "      <td>Learner15</td>\n",
       "      <td>['annimation', 'quiz', 'text']</td>\n",
       "      <td>['example', 'text', 'images']</td>\n",
       "      <td>['images', 'charts', 'quiz']</td>\n",
       "      <td>['outlines', 'videos', 'charts']</td>\n",
       "      <td>['example', 'annimation', 'text']</td>\n",
       "    </tr>\n",
       "    <tr>\n",
       "      <th>283</th>\n",
       "      <td>Learner284</td>\n",
       "      <td>['outlines', 'images', 'quiz']</td>\n",
       "      <td>['pdf', 'charts', 'images']</td>\n",
       "      <td>['outlines', 'quiz', 'videos']</td>\n",
       "      <td>['charts', 'annimation', 'images']</td>\n",
       "      <td>['annimation', 'text', 'charts']</td>\n",
       "    </tr>\n",
       "    <tr>\n",
       "      <th>411</th>\n",
       "      <td>Learner412</td>\n",
       "      <td>['pdf', 'videos', 'images']</td>\n",
       "      <td>['annimation', 'images', 'pdf']</td>\n",
       "      <td>['quiz', 'summeries', 'charts']</td>\n",
       "      <td>['videos', 'example', 'summeries']</td>\n",
       "      <td>['pdf', 'quiz', 'videos']</td>\n",
       "    </tr>\n",
       "    <tr>\n",
       "      <th>363</th>\n",
       "      <td>Learner364</td>\n",
       "      <td>['quiz', 'text', 'images']</td>\n",
       "      <td>['outlines', 'text', 'videos']</td>\n",
       "      <td>['example', 'annimation', 'charts']</td>\n",
       "      <td>['quiz', 'pdf', 'summeries']</td>\n",
       "      <td>['annimation', 'example', 'summeries']</td>\n",
       "    </tr>\n",
       "    <tr>\n",
       "      <th>32</th>\n",
       "      <td>Learner33</td>\n",
       "      <td>['summeries', 'outlines', 'images']</td>\n",
       "      <td>['quiz', 'summeries', 'text']</td>\n",
       "      <td>['pdf', 'summeries', 'quiz']</td>\n",
       "      <td>['pdf', 'quiz', 'annimation']</td>\n",
       "      <td>['example', 'videos', 'text']</td>\n",
       "    </tr>\n",
       "    <tr>\n",
       "      <th>243</th>\n",
       "      <td>Learner244</td>\n",
       "      <td>['images', 'text', 'charts']</td>\n",
       "      <td>['annimation', 'pdf', 'charts']</td>\n",
       "      <td>['example', 'images', 'annimation']</td>\n",
       "      <td>['charts', 'outlines', 'images']</td>\n",
       "      <td>['images', 'charts', 'videos']</td>\n",
       "    </tr>\n",
       "    <tr>\n",
       "      <th>369</th>\n",
       "      <td>Learner370</td>\n",
       "      <td>['images', 'videos', 'summeries']</td>\n",
       "      <td>['summeries', 'images', 'videos']</td>\n",
       "      <td>['outlines', 'videos', 'pdf']</td>\n",
       "      <td>['quiz', 'text', 'videos']</td>\n",
       "      <td>['example', 'charts', 'summeries']</td>\n",
       "    </tr>\n",
       "    <tr>\n",
       "      <th>438</th>\n",
       "      <td>Learner439</td>\n",
       "      <td>['videos', 'example', 'summeries']</td>\n",
       "      <td>['charts', 'outlines', 'quiz']</td>\n",
       "      <td>['pdf', 'outlines', 'annimation']</td>\n",
       "      <td>['charts', 'annimation', 'quiz']</td>\n",
       "      <td>['pdf', 'images', 'quiz']</td>\n",
       "    </tr>\n",
       "  </tbody>\n",
       "</table>\n",
       "</div>"
      ],
      "text/plain": [
       "     Learner ID                          Bubble sort  \\\n",
       "101  Learner102      ['summeries', 'text', 'images']   \n",
       "19    Learner20  ['summeries', 'annimation', 'text']   \n",
       "14    Learner15       ['annimation', 'quiz', 'text']   \n",
       "283  Learner284       ['outlines', 'images', 'quiz']   \n",
       "411  Learner412          ['pdf', 'videos', 'images']   \n",
       "363  Learner364           ['quiz', 'text', 'images']   \n",
       "32    Learner33  ['summeries', 'outlines', 'images']   \n",
       "243  Learner244         ['images', 'text', 'charts']   \n",
       "369  Learner370    ['images', 'videos', 'summeries']   \n",
       "438  Learner439   ['videos', 'example', 'summeries']   \n",
       "\n",
       "                            Quick sort                       Selection Sort  \\\n",
       "101       ['charts', 'text', 'images']        ['pdf', 'charts', 'outlines']   \n",
       "19      ['videos', 'quiz', 'outlines']       ['images', 'text', 'outlines']   \n",
       "14       ['example', 'text', 'images']         ['images', 'charts', 'quiz']   \n",
       "283        ['pdf', 'charts', 'images']       ['outlines', 'quiz', 'videos']   \n",
       "411    ['annimation', 'images', 'pdf']      ['quiz', 'summeries', 'charts']   \n",
       "363     ['outlines', 'text', 'videos']  ['example', 'annimation', 'charts']   \n",
       "32       ['quiz', 'summeries', 'text']         ['pdf', 'summeries', 'quiz']   \n",
       "243    ['annimation', 'pdf', 'charts']  ['example', 'images', 'annimation']   \n",
       "369  ['summeries', 'images', 'videos']        ['outlines', 'videos', 'pdf']   \n",
       "438     ['charts', 'outlines', 'quiz']    ['pdf', 'outlines', 'annimation']   \n",
       "\n",
       "                             Merge sort  \\\n",
       "101    ['charts', 'videos', 'outlines']   \n",
       "19        ['videos', 'example', 'quiz']   \n",
       "14     ['outlines', 'videos', 'charts']   \n",
       "283  ['charts', 'annimation', 'images']   \n",
       "411  ['videos', 'example', 'summeries']   \n",
       "363        ['quiz', 'pdf', 'summeries']   \n",
       "32        ['pdf', 'quiz', 'annimation']   \n",
       "243    ['charts', 'outlines', 'images']   \n",
       "369          ['quiz', 'text', 'videos']   \n",
       "438    ['charts', 'annimation', 'quiz']   \n",
       "\n",
       "                             Insertion sort  \n",
       "101         ['outlines', 'text', 'example']  \n",
       "19   ['annimation', 'summeries', 'example']  \n",
       "14        ['example', 'annimation', 'text']  \n",
       "283        ['annimation', 'text', 'charts']  \n",
       "411               ['pdf', 'quiz', 'videos']  \n",
       "363  ['annimation', 'example', 'summeries']  \n",
       "32            ['example', 'videos', 'text']  \n",
       "243          ['images', 'charts', 'videos']  \n",
       "369      ['example', 'charts', 'summeries']  \n",
       "438               ['pdf', 'images', 'quiz']  "
      ]
     },
     "execution_count": 411,
     "metadata": {},
     "output_type": "execute_result"
    }
   ],
   "source": [
    "final_data=data2.iloc[top10.index]\n",
    "final_data"
   ]
  },
  {
   "cell_type": "code",
   "execution_count": 412,
   "id": "062d7226",
   "metadata": {},
   "outputs": [],
   "source": [
    "def preprocessing(df,unit,neighbours):\n",
    "    a=[]\n",
    "    for i in range(neighbours):\n",
    "        a1=literal_eval(df[unit].values[i])\n",
    "        #print(a1)\n",
    "        #print(i)\n",
    "        a.append(a1)\n",
    "    return a\n",
    "    \n",
    "    "
   ]
  },
  {
   "cell_type": "code",
   "execution_count": 421,
   "id": "5bd7c6b8",
   "metadata": {},
   "outputs": [],
   "source": [
    "unit='Merge sort'\n",
    "a=preprocessing(final_data,unit=unit,neighbours=10)\n"
   ]
  },
  {
   "cell_type": "code",
   "execution_count": 422,
   "id": "86e7e314",
   "metadata": {},
   "outputs": [
    {
     "data": {
      "text/plain": [
       "[['charts', 'videos', 'outlines'],\n",
       " ['videos', 'example', 'quiz'],\n",
       " ['outlines', 'videos', 'charts'],\n",
       " ['charts', 'annimation', 'images'],\n",
       " ['videos', 'example', 'summeries'],\n",
       " ['quiz', 'pdf', 'summeries'],\n",
       " ['pdf', 'quiz', 'annimation'],\n",
       " ['charts', 'outlines', 'images'],\n",
       " ['quiz', 'text', 'videos'],\n",
       " ['charts', 'annimation', 'quiz']]"
      ]
     },
     "execution_count": 422,
     "metadata": {},
     "output_type": "execute_result"
    }
   ],
   "source": [
    "a"
   ]
  },
  {
   "cell_type": "code",
   "execution_count": 423,
   "id": "ab85848e",
   "metadata": {},
   "outputs": [],
   "source": [
    "results=list(apriori(a,max_length=5,min_confidence=0.4,min_support=0.3,min_length=2,min_lift=1))"
   ]
  },
  {
   "cell_type": "code",
   "execution_count": 424,
   "id": "3930dec7",
   "metadata": {},
   "outputs": [],
   "source": [
    "def apri(x):\n",
    "    results=list(apriori(x,max_length=5,min_confidence=0.4,min_support=0.3,min_lift=1))\n",
    "    df=pd.DataFrame()\n",
    "    for result in results:\n",
    "    \n",
    "        dicti={\n",
    "            'items':result.items,\n",
    "            'Support':result.support,\n",
    "            'len':len(result.items)\n",
    "        }\n",
    "        df=df.append(dicti, ignore_index=True)\n",
    "    df=df.sort_values(by='Support',ascending=False)\n",
    "    maxlen=df['len'].max()\n",
    "    #print(maxlen)\n",
    "    a=list(df[df['len']==maxlen]['items'].values[0])\n",
    "    #print(a)\n",
    "    if maxlen>1:\n",
    "        b=list(df[df['Support']>0.3]['items'].values[0])\n",
    "        #print(b)\n",
    "        c=np.union1d(a,b)\n",
    "        return c\n",
    "    else:\n",
    "        return a\n",
    "    "
   ]
  },
  {
   "cell_type": "code",
   "execution_count": 425,
   "id": "1c8b8f7a",
   "metadata": {},
   "outputs": [
    {
     "data": {
      "text/plain": [
       "['charts', 'outlines']"
      ]
     },
     "execution_count": 425,
     "metadata": {},
     "output_type": "execute_result"
    }
   ],
   "source": [
    "b=apri(a)\n",
    "b\n",
    "list(b)"
   ]
  },
  {
   "cell_type": "code",
   "execution_count": null,
   "id": "6534ff42",
   "metadata": {},
   "outputs": [],
   "source": [
    "\n",
    "\n"
   ]
  },
  {
   "cell_type": "code",
   "execution_count": null,
   "id": "84590ce5",
   "metadata": {},
   "outputs": [],
   "source": []
  }
 ],
 "metadata": {
  "kernelspec": {
   "display_name": "Python 3",
   "language": "python",
   "name": "python3"
  },
  "language_info": {
   "codemirror_mode": {
    "name": "ipython",
    "version": 3
   },
   "file_extension": ".py",
   "mimetype": "text/x-python",
   "name": "python",
   "nbconvert_exporter": "python",
   "pygments_lexer": "ipython3",
   "version": "3.8.4"
  }
 },
 "nbformat": 4,
 "nbformat_minor": 5
}
